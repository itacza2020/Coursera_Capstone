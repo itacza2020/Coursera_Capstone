{
 "cells": [
  {
   "cell_type": "markdown",
   "metadata": {},
   "source": [
    "# Segmenting and Clustering Neighborhoods in Toronto _1_2_3"
   ]
  },
  {
   "cell_type": "markdown",
   "metadata": {},
   "source": [
    "##  Import libraries"
   ]
  },
  {
   "cell_type": "code",
   "execution_count": 1,
   "metadata": {},
   "outputs": [
    {
     "name": "stdout",
     "output_type": "stream",
     "text": [
      "Libraries imported.\n"
     ]
    }
   ],
   "source": [
    "import numpy as np # library to handle data in a vectorized manner\n",
    "\n",
    "import pandas as pd # library for data analsysis\n",
    "pd.set_option(\"display.max_columns\", None)\n",
    "pd.set_option(\"display.max_rows\", None)\n",
    "\n",
    "import json # library to handle JSON files\n",
    "\n",
    "from geopy.geocoders import Nominatim # convert an address into latitude and longitude values\n",
    "\n",
    "import requests # library to handle requests\n",
    "from bs4 import BeautifulSoup # library to parse HTML and XML documents\n",
    "\n",
    "from pandas.io.json import json_normalize # tranform JSON file into a pandas dataframe\n",
    "\n",
    "# Matplotlib and associated plotting modules\n",
    "import matplotlib.cm as cm\n",
    "import matplotlib.colors as colors\n",
    "\n",
    "# import k-means from clustering stage\n",
    "from sklearn.cluster import KMeans\n",
    "\n",
    "#! conda install -c conda-forge folium\n",
    "\n",
    "import folium # map rendering library\n",
    "\n",
    "print(\"Libraries imported.\")"
   ]
  },
  {
   "cell_type": "markdown",
   "metadata": {},
   "source": [
    "##  Scrap data from Wikipedia page into a DataFrame"
   ]
  },
  {
   "cell_type": "code",
   "execution_count": 2,
   "metadata": {},
   "outputs": [],
   "source": [
    "# send the GET request\n",
    "data = requests.get('https://en.wikipedia.org/wiki/List_of_postal_codes_of_Canada:_M').text"
   ]
  },
  {
   "cell_type": "code",
   "execution_count": 3,
   "metadata": {},
   "outputs": [],
   "source": [
    "# parse data from the html into a beautifulsoup object\n",
    "soup = BeautifulSoup(data, 'html.parser')"
   ]
  },
  {
   "cell_type": "code",
   "execution_count": 4,
   "metadata": {},
   "outputs": [],
   "source": [
    "# create thre following lists to store table data\n",
    "postalCodeList = []\n",
    "boroughList = []\n",
    "neighborhoodList = []"
   ]
  },
  {
   "cell_type": "code",
   "execution_count": 5,
   "metadata": {},
   "outputs": [],
   "source": [
    "# append the data into the respective lists\n",
    "for row in soup.find('table').find_all('tr'):\n",
    "    cells = row.find_all('td')\n",
    "    if(len(cells) > 0):\n",
    "        postalCodeList.append(cells[0].text)\n",
    "        boroughList.append(cells[1].text)\n",
    "        neighborhoodList.append(cells[2].text.rstrip('\\n')) "
   ]
  },
  {
   "cell_type": "code",
   "execution_count": 6,
   "metadata": {},
   "outputs": [
    {
     "data": {
      "text/html": [
       "<div>\n",
       "<style scoped>\n",
       "    .dataframe tbody tr th:only-of-type {\n",
       "        vertical-align: middle;\n",
       "    }\n",
       "\n",
       "    .dataframe tbody tr th {\n",
       "        vertical-align: top;\n",
       "    }\n",
       "\n",
       "    .dataframe thead th {\n",
       "        text-align: right;\n",
       "    }\n",
       "</style>\n",
       "<table border=\"1\" class=\"dataframe\">\n",
       "  <thead>\n",
       "    <tr style=\"text-align: right;\">\n",
       "      <th></th>\n",
       "      <th>PostalCode</th>\n",
       "      <th>Borough</th>\n",
       "      <th>Neighborhood</th>\n",
       "    </tr>\n",
       "  </thead>\n",
       "  <tbody>\n",
       "    <tr>\n",
       "      <th>0</th>\n",
       "      <td>M1A\\n</td>\n",
       "      <td>Not assigned\\n</td>\n",
       "      <td></td>\n",
       "    </tr>\n",
       "    <tr>\n",
       "      <th>1</th>\n",
       "      <td>M2A\\n</td>\n",
       "      <td>Not assigned\\n</td>\n",
       "      <td></td>\n",
       "    </tr>\n",
       "    <tr>\n",
       "      <th>2</th>\n",
       "      <td>M3A\\n</td>\n",
       "      <td>North York\\n</td>\n",
       "      <td>Parkwoods</td>\n",
       "    </tr>\n",
       "    <tr>\n",
       "      <th>3</th>\n",
       "      <td>M4A\\n</td>\n",
       "      <td>North York\\n</td>\n",
       "      <td>Victoria Village</td>\n",
       "    </tr>\n",
       "    <tr>\n",
       "      <th>4</th>\n",
       "      <td>M5A\\n</td>\n",
       "      <td>Downtown Toronto\\n</td>\n",
       "      <td>Regent Park, Harbourfront</td>\n",
       "    </tr>\n",
       "  </tbody>\n",
       "</table>\n",
       "</div>"
      ],
      "text/plain": [
       "  PostalCode             Borough               Neighborhood\n",
       "0      M1A\\n      Not assigned\\n                           \n",
       "1      M2A\\n      Not assigned\\n                           \n",
       "2      M3A\\n        North York\\n                  Parkwoods\n",
       "3      M4A\\n        North York\\n           Victoria Village\n",
       "4      M5A\\n  Downtown Toronto\\n  Regent Park, Harbourfront"
      ]
     },
     "execution_count": 6,
     "metadata": {},
     "output_type": "execute_result"
    }
   ],
   "source": [
    "# create a new DataFrame from the three lists\n",
    "toronto_df = pd.DataFrame({\"PostalCode\": postalCodeList,\n",
    "                           \"Borough\": boroughList,\n",
    "                           \"Neighborhood\": neighborhoodList})\n",
    "\n",
    "toronto_df.head()"
   ]
  },
  {
   "cell_type": "code",
   "execution_count": 7,
   "metadata": {},
   "outputs": [],
   "source": [
    "#replace the '\\n' with ''\n",
    "toronto_df = toronto_df.replace('\\n','', regex=True)"
   ]
  },
  {
   "cell_type": "code",
   "execution_count": 8,
   "metadata": {},
   "outputs": [
    {
     "data": {
      "text/html": [
       "<div>\n",
       "<style scoped>\n",
       "    .dataframe tbody tr th:only-of-type {\n",
       "        vertical-align: middle;\n",
       "    }\n",
       "\n",
       "    .dataframe tbody tr th {\n",
       "        vertical-align: top;\n",
       "    }\n",
       "\n",
       "    .dataframe thead th {\n",
       "        text-align: right;\n",
       "    }\n",
       "</style>\n",
       "<table border=\"1\" class=\"dataframe\">\n",
       "  <thead>\n",
       "    <tr style=\"text-align: right;\">\n",
       "      <th></th>\n",
       "      <th>PostalCode</th>\n",
       "      <th>Borough</th>\n",
       "      <th>Neighborhood</th>\n",
       "    </tr>\n",
       "  </thead>\n",
       "  <tbody>\n",
       "    <tr>\n",
       "      <th>0</th>\n",
       "      <td>M1A</td>\n",
       "      <td>Not assigned</td>\n",
       "      <td></td>\n",
       "    </tr>\n",
       "    <tr>\n",
       "      <th>1</th>\n",
       "      <td>M2A</td>\n",
       "      <td>Not assigned</td>\n",
       "      <td></td>\n",
       "    </tr>\n",
       "    <tr>\n",
       "      <th>2</th>\n",
       "      <td>M3A</td>\n",
       "      <td>North York</td>\n",
       "      <td>Parkwoods</td>\n",
       "    </tr>\n",
       "    <tr>\n",
       "      <th>3</th>\n",
       "      <td>M4A</td>\n",
       "      <td>North York</td>\n",
       "      <td>Victoria Village</td>\n",
       "    </tr>\n",
       "    <tr>\n",
       "      <th>4</th>\n",
       "      <td>M5A</td>\n",
       "      <td>Downtown Toronto</td>\n",
       "      <td>Regent Park, Harbourfront</td>\n",
       "    </tr>\n",
       "  </tbody>\n",
       "</table>\n",
       "</div>"
      ],
      "text/plain": [
       "  PostalCode           Borough               Neighborhood\n",
       "0        M1A      Not assigned                           \n",
       "1        M2A      Not assigned                           \n",
       "2        M3A        North York                  Parkwoods\n",
       "3        M4A        North York           Victoria Village\n",
       "4        M5A  Downtown Toronto  Regent Park, Harbourfront"
      ]
     },
     "execution_count": 8,
     "metadata": {},
     "output_type": "execute_result"
    }
   ],
   "source": [
    "toronto_df.head()"
   ]
  },
  {
   "cell_type": "markdown",
   "metadata": {},
   "source": [
    "##  Drop cells with a borough that is \"Not assigned\""
   ]
  },
  {
   "cell_type": "code",
   "execution_count": 10,
   "metadata": {},
   "outputs": [
    {
     "data": {
      "text/html": [
       "<div>\n",
       "<style scoped>\n",
       "    .dataframe tbody tr th:only-of-type {\n",
       "        vertical-align: middle;\n",
       "    }\n",
       "\n",
       "    .dataframe tbody tr th {\n",
       "        vertical-align: top;\n",
       "    }\n",
       "\n",
       "    .dataframe thead th {\n",
       "        text-align: right;\n",
       "    }\n",
       "</style>\n",
       "<table border=\"1\" class=\"dataframe\">\n",
       "  <thead>\n",
       "    <tr style=\"text-align: right;\">\n",
       "      <th></th>\n",
       "      <th>PostalCode</th>\n",
       "      <th>Borough</th>\n",
       "      <th>Neighborhood</th>\n",
       "    </tr>\n",
       "  </thead>\n",
       "  <tbody>\n",
       "    <tr>\n",
       "      <th>0</th>\n",
       "      <td>M3A</td>\n",
       "      <td>North York</td>\n",
       "      <td>Parkwoods</td>\n",
       "    </tr>\n",
       "    <tr>\n",
       "      <th>1</th>\n",
       "      <td>M4A</td>\n",
       "      <td>North York</td>\n",
       "      <td>Victoria Village</td>\n",
       "    </tr>\n",
       "    <tr>\n",
       "      <th>2</th>\n",
       "      <td>M5A</td>\n",
       "      <td>Downtown Toronto</td>\n",
       "      <td>Regent Park, Harbourfront</td>\n",
       "    </tr>\n",
       "    <tr>\n",
       "      <th>3</th>\n",
       "      <td>M6A</td>\n",
       "      <td>North York</td>\n",
       "      <td>Lawrence Manor, Lawrence Heights</td>\n",
       "    </tr>\n",
       "    <tr>\n",
       "      <th>4</th>\n",
       "      <td>M7A</td>\n",
       "      <td>Downtown Toronto</td>\n",
       "      <td>Queen's Park, Ontario Provincial Government</td>\n",
       "    </tr>\n",
       "  </tbody>\n",
       "</table>\n",
       "</div>"
      ],
      "text/plain": [
       "  PostalCode           Borough                                 Neighborhood\n",
       "0        M3A        North York                                    Parkwoods\n",
       "1        M4A        North York                             Victoria Village\n",
       "2        M5A  Downtown Toronto                    Regent Park, Harbourfront\n",
       "3        M6A        North York             Lawrence Manor, Lawrence Heights\n",
       "4        M7A  Downtown Toronto  Queen's Park, Ontario Provincial Government"
      ]
     },
     "execution_count": 10,
     "metadata": {},
     "output_type": "execute_result"
    }
   ],
   "source": [
    "# drop cells with a borough that is Not assigned\n",
    "toronto_df_dropna = toronto_df[toronto_df.Borough != \"Not assigned\"].reset_index(drop=True)\n",
    "toronto_df_dropna.head()"
   ]
  },
  {
   "cell_type": "markdown",
   "metadata": {},
   "source": [
    "##  Group neighborhoods in the same borough"
   ]
  },
  {
   "cell_type": "code",
   "execution_count": 11,
   "metadata": {},
   "outputs": [
    {
     "data": {
      "text/html": [
       "<div>\n",
       "<style scoped>\n",
       "    .dataframe tbody tr th:only-of-type {\n",
       "        vertical-align: middle;\n",
       "    }\n",
       "\n",
       "    .dataframe tbody tr th {\n",
       "        vertical-align: top;\n",
       "    }\n",
       "\n",
       "    .dataframe thead th {\n",
       "        text-align: right;\n",
       "    }\n",
       "</style>\n",
       "<table border=\"1\" class=\"dataframe\">\n",
       "  <thead>\n",
       "    <tr style=\"text-align: right;\">\n",
       "      <th></th>\n",
       "      <th>PostalCode</th>\n",
       "      <th>Borough</th>\n",
       "      <th>Neighborhood</th>\n",
       "    </tr>\n",
       "  </thead>\n",
       "  <tbody>\n",
       "    <tr>\n",
       "      <th>0</th>\n",
       "      <td>M1B</td>\n",
       "      <td>Scarborough</td>\n",
       "      <td>Malvern, Rouge</td>\n",
       "    </tr>\n",
       "    <tr>\n",
       "      <th>1</th>\n",
       "      <td>M1C</td>\n",
       "      <td>Scarborough</td>\n",
       "      <td>Rouge Hill, Port Union, Highland Creek</td>\n",
       "    </tr>\n",
       "    <tr>\n",
       "      <th>2</th>\n",
       "      <td>M1E</td>\n",
       "      <td>Scarborough</td>\n",
       "      <td>Guildwood, Morningside, West Hill</td>\n",
       "    </tr>\n",
       "    <tr>\n",
       "      <th>3</th>\n",
       "      <td>M1G</td>\n",
       "      <td>Scarborough</td>\n",
       "      <td>Woburn</td>\n",
       "    </tr>\n",
       "    <tr>\n",
       "      <th>4</th>\n",
       "      <td>M1H</td>\n",
       "      <td>Scarborough</td>\n",
       "      <td>Cedarbrae</td>\n",
       "    </tr>\n",
       "  </tbody>\n",
       "</table>\n",
       "</div>"
      ],
      "text/plain": [
       "  PostalCode      Borough                            Neighborhood\n",
       "0        M1B  Scarborough                          Malvern, Rouge\n",
       "1        M1C  Scarborough  Rouge Hill, Port Union, Highland Creek\n",
       "2        M1E  Scarborough       Guildwood, Morningside, West Hill\n",
       "3        M1G  Scarborough                                  Woburn\n",
       "4        M1H  Scarborough                               Cedarbrae"
      ]
     },
     "execution_count": 11,
     "metadata": {},
     "output_type": "execute_result"
    }
   ],
   "source": [
    "# group neighborhoods in the same borough\n",
    "toronto_df_grouped = toronto_df_dropna.groupby([\"PostalCode\", \"Borough\"], as_index=False).agg(lambda x: \", \".join(x))\n",
    "toronto_df_grouped.head()"
   ]
  },
  {
   "cell_type": "markdown",
   "metadata": {},
   "source": [
    "##  For Neighborhood=\"Not assigned\", make the value the same as Borough"
   ]
  },
  {
   "cell_type": "code",
   "execution_count": 12,
   "metadata": {},
   "outputs": [
    {
     "data": {
      "text/html": [
       "<div>\n",
       "<style scoped>\n",
       "    .dataframe tbody tr th:only-of-type {\n",
       "        vertical-align: middle;\n",
       "    }\n",
       "\n",
       "    .dataframe tbody tr th {\n",
       "        vertical-align: top;\n",
       "    }\n",
       "\n",
       "    .dataframe thead th {\n",
       "        text-align: right;\n",
       "    }\n",
       "</style>\n",
       "<table border=\"1\" class=\"dataframe\">\n",
       "  <thead>\n",
       "    <tr style=\"text-align: right;\">\n",
       "      <th></th>\n",
       "      <th>PostalCode</th>\n",
       "      <th>Borough</th>\n",
       "      <th>Neighborhood</th>\n",
       "    </tr>\n",
       "  </thead>\n",
       "  <tbody>\n",
       "    <tr>\n",
       "      <th>0</th>\n",
       "      <td>M1B</td>\n",
       "      <td>Scarborough</td>\n",
       "      <td>Malvern, Rouge</td>\n",
       "    </tr>\n",
       "    <tr>\n",
       "      <th>1</th>\n",
       "      <td>M1C</td>\n",
       "      <td>Scarborough</td>\n",
       "      <td>Rouge Hill, Port Union, Highland Creek</td>\n",
       "    </tr>\n",
       "    <tr>\n",
       "      <th>2</th>\n",
       "      <td>M1E</td>\n",
       "      <td>Scarborough</td>\n",
       "      <td>Guildwood, Morningside, West Hill</td>\n",
       "    </tr>\n",
       "    <tr>\n",
       "      <th>3</th>\n",
       "      <td>M1G</td>\n",
       "      <td>Scarborough</td>\n",
       "      <td>Woburn</td>\n",
       "    </tr>\n",
       "    <tr>\n",
       "      <th>4</th>\n",
       "      <td>M1H</td>\n",
       "      <td>Scarborough</td>\n",
       "      <td>Cedarbrae</td>\n",
       "    </tr>\n",
       "  </tbody>\n",
       "</table>\n",
       "</div>"
      ],
      "text/plain": [
       "  PostalCode      Borough                            Neighborhood\n",
       "0        M1B  Scarborough                          Malvern, Rouge\n",
       "1        M1C  Scarborough  Rouge Hill, Port Union, Highland Creek\n",
       "2        M1E  Scarborough       Guildwood, Morningside, West Hill\n",
       "3        M1G  Scarborough                                  Woburn\n",
       "4        M1H  Scarborough                               Cedarbrae"
      ]
     },
     "execution_count": 12,
     "metadata": {},
     "output_type": "execute_result"
    }
   ],
   "source": [
    "# for Neighborhood=\"Not assigned\", make the value the same as Borough\n",
    "for index, row in toronto_df_grouped.iterrows():\n",
    "    if row[\"Neighborhood\"] == \"Not assigned\":\n",
    "        row[\"Neighborhood\"] = row[\"Borough\"]\n",
    "        \n",
    "toronto_df_grouped.head()"
   ]
  },
  {
   "cell_type": "markdown",
   "metadata": {},
   "source": [
    "##  Check the test dataframe as it is required"
   ]
  },
  {
   "cell_type": "code",
   "execution_count": 13,
   "metadata": {},
   "outputs": [
    {
     "data": {
      "text/html": [
       "<div>\n",
       "<style scoped>\n",
       "    .dataframe tbody tr th:only-of-type {\n",
       "        vertical-align: middle;\n",
       "    }\n",
       "\n",
       "    .dataframe tbody tr th {\n",
       "        vertical-align: top;\n",
       "    }\n",
       "\n",
       "    .dataframe thead th {\n",
       "        text-align: right;\n",
       "    }\n",
       "</style>\n",
       "<table border=\"1\" class=\"dataframe\">\n",
       "  <thead>\n",
       "    <tr style=\"text-align: right;\">\n",
       "      <th></th>\n",
       "      <th>PostalCode</th>\n",
       "      <th>Borough</th>\n",
       "      <th>Neighborhood</th>\n",
       "    </tr>\n",
       "  </thead>\n",
       "  <tbody>\n",
       "    <tr>\n",
       "      <th>0</th>\n",
       "      <td>M5G</td>\n",
       "      <td>Downtown Toronto</td>\n",
       "      <td>Central Bay Street</td>\n",
       "    </tr>\n",
       "    <tr>\n",
       "      <th>1</th>\n",
       "      <td>M2H</td>\n",
       "      <td>North York</td>\n",
       "      <td>Hillcrest Village</td>\n",
       "    </tr>\n",
       "    <tr>\n",
       "      <th>2</th>\n",
       "      <td>M4B</td>\n",
       "      <td>East York</td>\n",
       "      <td>Parkview Hill, Woodbine Gardens</td>\n",
       "    </tr>\n",
       "    <tr>\n",
       "      <th>3</th>\n",
       "      <td>M1J</td>\n",
       "      <td>Scarborough</td>\n",
       "      <td>Scarborough Village</td>\n",
       "    </tr>\n",
       "    <tr>\n",
       "      <th>4</th>\n",
       "      <td>M4G</td>\n",
       "      <td>East York</td>\n",
       "      <td>Leaside</td>\n",
       "    </tr>\n",
       "    <tr>\n",
       "      <th>5</th>\n",
       "      <td>M4M</td>\n",
       "      <td>East Toronto</td>\n",
       "      <td>Studio District</td>\n",
       "    </tr>\n",
       "    <tr>\n",
       "      <th>6</th>\n",
       "      <td>M1R</td>\n",
       "      <td>Scarborough</td>\n",
       "      <td>Wexford, Maryvale</td>\n",
       "    </tr>\n",
       "    <tr>\n",
       "      <th>7</th>\n",
       "      <td>M9V</td>\n",
       "      <td>Etobicoke</td>\n",
       "      <td>South Steeles, Silverstone, Humbergate, Jamest...</td>\n",
       "    </tr>\n",
       "    <tr>\n",
       "      <th>8</th>\n",
       "      <td>M9L</td>\n",
       "      <td>North York</td>\n",
       "      <td>Humber Summit</td>\n",
       "    </tr>\n",
       "    <tr>\n",
       "      <th>9</th>\n",
       "      <td>M5V</td>\n",
       "      <td>Downtown Toronto</td>\n",
       "      <td>CN Tower, King and Spadina, Railway Lands, Har...</td>\n",
       "    </tr>\n",
       "    <tr>\n",
       "      <th>10</th>\n",
       "      <td>M1B</td>\n",
       "      <td>Scarborough</td>\n",
       "      <td>Malvern, Rouge</td>\n",
       "    </tr>\n",
       "    <tr>\n",
       "      <th>11</th>\n",
       "      <td>M5A</td>\n",
       "      <td>Downtown Toronto</td>\n",
       "      <td>Regent Park, Harbourfront</td>\n",
       "    </tr>\n",
       "  </tbody>\n",
       "</table>\n",
       "</div>"
      ],
      "text/plain": [
       "   PostalCode           Borough  \\\n",
       "0         M5G  Downtown Toronto   \n",
       "1         M2H        North York   \n",
       "2         M4B         East York   \n",
       "3         M1J       Scarborough   \n",
       "4         M4G         East York   \n",
       "5         M4M      East Toronto   \n",
       "6         M1R       Scarborough   \n",
       "7         M9V         Etobicoke   \n",
       "8         M9L        North York   \n",
       "9         M5V  Downtown Toronto   \n",
       "10        M1B       Scarborough   \n",
       "11        M5A  Downtown Toronto   \n",
       "\n",
       "                                         Neighborhood  \n",
       "0                                  Central Bay Street  \n",
       "1                                   Hillcrest Village  \n",
       "2                     Parkview Hill, Woodbine Gardens  \n",
       "3                                 Scarborough Village  \n",
       "4                                             Leaside  \n",
       "5                                     Studio District  \n",
       "6                                   Wexford, Maryvale  \n",
       "7   South Steeles, Silverstone, Humbergate, Jamest...  \n",
       "8                                       Humber Summit  \n",
       "9   CN Tower, King and Spadina, Railway Lands, Har...  \n",
       "10                                     Malvern, Rouge  \n",
       "11                          Regent Park, Harbourfront  "
      ]
     },
     "execution_count": 13,
     "metadata": {},
     "output_type": "execute_result"
    }
   ],
   "source": [
    "# create a new test dataframe as it is required\n",
    "column_names = [\"PostalCode\", \"Borough\", \"Neighborhood\"]\n",
    "coursera_df = pd.DataFrame(columns=column_names)\n",
    "\n",
    "coursera_list = [\"M5G\", \"M2H\", \"M4B\", \"M1J\", \"M4G\", \"M4M\", \"M1R\", \"M9V\", \"M9L\", \"M5V\", \"M1B\", \"M5A\"]\n",
    "\n",
    "for postcode in coursera_list:\n",
    "    coursera_df = coursera_df.append(toronto_df_grouped[toronto_df_grouped[\"PostalCode\"]==postcode], ignore_index=True)\n",
    "    \n",
    "coursera_df"
   ]
  },
  {
   "cell_type": "markdown",
   "metadata": {},
   "source": [
    "##  Print the number of rows of the cleaned dataframe"
   ]
  },
  {
   "cell_type": "code",
   "execution_count": 14,
   "metadata": {},
   "outputs": [
    {
     "data": {
      "text/plain": [
       "(103, 3)"
      ]
     },
     "execution_count": 14,
     "metadata": {},
     "output_type": "execute_result"
    }
   ],
   "source": [
    " # print the number of rows of your dataframe\n",
    "toronto_df_grouped.shape"
   ]
  },
  {
   "cell_type": "markdown",
   "metadata": {},
   "source": [
    "##  Load the coordinates from the csv file on Coursera"
   ]
  },
  {
   "cell_type": "code",
   "execution_count": 15,
   "metadata": {},
   "outputs": [
    {
     "data": {
      "text/html": [
       "<div>\n",
       "<style scoped>\n",
       "    .dataframe tbody tr th:only-of-type {\n",
       "        vertical-align: middle;\n",
       "    }\n",
       "\n",
       "    .dataframe tbody tr th {\n",
       "        vertical-align: top;\n",
       "    }\n",
       "\n",
       "    .dataframe thead th {\n",
       "        text-align: right;\n",
       "    }\n",
       "</style>\n",
       "<table border=\"1\" class=\"dataframe\">\n",
       "  <thead>\n",
       "    <tr style=\"text-align: right;\">\n",
       "      <th></th>\n",
       "      <th>Postal Code</th>\n",
       "      <th>Latitude</th>\n",
       "      <th>Longitude</th>\n",
       "    </tr>\n",
       "  </thead>\n",
       "  <tbody>\n",
       "    <tr>\n",
       "      <th>0</th>\n",
       "      <td>M1B</td>\n",
       "      <td>43.806686</td>\n",
       "      <td>-79.194353</td>\n",
       "    </tr>\n",
       "    <tr>\n",
       "      <th>1</th>\n",
       "      <td>M1C</td>\n",
       "      <td>43.784535</td>\n",
       "      <td>-79.160497</td>\n",
       "    </tr>\n",
       "    <tr>\n",
       "      <th>2</th>\n",
       "      <td>M1E</td>\n",
       "      <td>43.763573</td>\n",
       "      <td>-79.188711</td>\n",
       "    </tr>\n",
       "    <tr>\n",
       "      <th>3</th>\n",
       "      <td>M1G</td>\n",
       "      <td>43.770992</td>\n",
       "      <td>-79.216917</td>\n",
       "    </tr>\n",
       "    <tr>\n",
       "      <th>4</th>\n",
       "      <td>M1H</td>\n",
       "      <td>43.773136</td>\n",
       "      <td>-79.239476</td>\n",
       "    </tr>\n",
       "  </tbody>\n",
       "</table>\n",
       "</div>"
      ],
      "text/plain": [
       "  Postal Code   Latitude  Longitude\n",
       "0         M1B  43.806686 -79.194353\n",
       "1         M1C  43.784535 -79.160497\n",
       "2         M1E  43.763573 -79.188711\n",
       "3         M1G  43.770992 -79.216917\n",
       "4         M1H  43.773136 -79.239476"
      ]
     },
     "execution_count": 15,
     "metadata": {},
     "output_type": "execute_result"
    }
   ],
   "source": [
    "# load the coordinates from the csv file on Coursera\n",
    "df_data_0 = pd.read_csv(\"Geospatial_Coordinates.csv\")\n",
    "df_data_0.head()"
   ]
  },
  {
   "cell_type": "code",
   "execution_count": 16,
   "metadata": {},
   "outputs": [
    {
     "data": {
      "text/html": [
       "<div>\n",
       "<style scoped>\n",
       "    .dataframe tbody tr th:only-of-type {\n",
       "        vertical-align: middle;\n",
       "    }\n",
       "\n",
       "    .dataframe tbody tr th {\n",
       "        vertical-align: top;\n",
       "    }\n",
       "\n",
       "    .dataframe thead th {\n",
       "        text-align: right;\n",
       "    }\n",
       "</style>\n",
       "<table border=\"1\" class=\"dataframe\">\n",
       "  <thead>\n",
       "    <tr style=\"text-align: right;\">\n",
       "      <th></th>\n",
       "      <th>PostalCode</th>\n",
       "      <th>Latitude</th>\n",
       "      <th>Longitude</th>\n",
       "    </tr>\n",
       "  </thead>\n",
       "  <tbody>\n",
       "    <tr>\n",
       "      <th>0</th>\n",
       "      <td>M1B</td>\n",
       "      <td>43.806686</td>\n",
       "      <td>-79.194353</td>\n",
       "    </tr>\n",
       "    <tr>\n",
       "      <th>1</th>\n",
       "      <td>M1C</td>\n",
       "      <td>43.784535</td>\n",
       "      <td>-79.160497</td>\n",
       "    </tr>\n",
       "    <tr>\n",
       "      <th>2</th>\n",
       "      <td>M1E</td>\n",
       "      <td>43.763573</td>\n",
       "      <td>-79.188711</td>\n",
       "    </tr>\n",
       "    <tr>\n",
       "      <th>3</th>\n",
       "      <td>M1G</td>\n",
       "      <td>43.770992</td>\n",
       "      <td>-79.216917</td>\n",
       "    </tr>\n",
       "    <tr>\n",
       "      <th>4</th>\n",
       "      <td>M1H</td>\n",
       "      <td>43.773136</td>\n",
       "      <td>-79.239476</td>\n",
       "    </tr>\n",
       "  </tbody>\n",
       "</table>\n",
       "</div>"
      ],
      "text/plain": [
       "  PostalCode   Latitude  Longitude\n",
       "0        M1B  43.806686 -79.194353\n",
       "1        M1C  43.784535 -79.160497\n",
       "2        M1E  43.763573 -79.188711\n",
       "3        M1G  43.770992 -79.216917\n",
       "4        M1H  43.773136 -79.239476"
      ]
     },
     "execution_count": 16,
     "metadata": {},
     "output_type": "execute_result"
    }
   ],
   "source": [
    "# rename the column \"PostalCode\"\n",
    "df_data_0.rename(columns={\"Postal Code\": \"PostalCode\"}, inplace=True)\n",
    "df_data_0.head()"
   ]
  },
  {
   "cell_type": "markdown",
   "metadata": {},
   "source": [
    "##  Merge two tables to get the coordinates"
   ]
  },
  {
   "cell_type": "code",
   "execution_count": 17,
   "metadata": {},
   "outputs": [
    {
     "data": {
      "text/html": [
       "<div>\n",
       "<style scoped>\n",
       "    .dataframe tbody tr th:only-of-type {\n",
       "        vertical-align: middle;\n",
       "    }\n",
       "\n",
       "    .dataframe tbody tr th {\n",
       "        vertical-align: top;\n",
       "    }\n",
       "\n",
       "    .dataframe thead th {\n",
       "        text-align: right;\n",
       "    }\n",
       "</style>\n",
       "<table border=\"1\" class=\"dataframe\">\n",
       "  <thead>\n",
       "    <tr style=\"text-align: right;\">\n",
       "      <th></th>\n",
       "      <th>PostalCode</th>\n",
       "      <th>Borough</th>\n",
       "      <th>Neighborhood</th>\n",
       "      <th>Latitude</th>\n",
       "      <th>Longitude</th>\n",
       "    </tr>\n",
       "  </thead>\n",
       "  <tbody>\n",
       "    <tr>\n",
       "      <th>0</th>\n",
       "      <td>M1B</td>\n",
       "      <td>Scarborough</td>\n",
       "      <td>Malvern, Rouge</td>\n",
       "      <td>43.806686</td>\n",
       "      <td>-79.194353</td>\n",
       "    </tr>\n",
       "    <tr>\n",
       "      <th>1</th>\n",
       "      <td>M1C</td>\n",
       "      <td>Scarborough</td>\n",
       "      <td>Rouge Hill, Port Union, Highland Creek</td>\n",
       "      <td>43.784535</td>\n",
       "      <td>-79.160497</td>\n",
       "    </tr>\n",
       "    <tr>\n",
       "      <th>2</th>\n",
       "      <td>M1E</td>\n",
       "      <td>Scarborough</td>\n",
       "      <td>Guildwood, Morningside, West Hill</td>\n",
       "      <td>43.763573</td>\n",
       "      <td>-79.188711</td>\n",
       "    </tr>\n",
       "    <tr>\n",
       "      <th>3</th>\n",
       "      <td>M1G</td>\n",
       "      <td>Scarborough</td>\n",
       "      <td>Woburn</td>\n",
       "      <td>43.770992</td>\n",
       "      <td>-79.216917</td>\n",
       "    </tr>\n",
       "    <tr>\n",
       "      <th>4</th>\n",
       "      <td>M1H</td>\n",
       "      <td>Scarborough</td>\n",
       "      <td>Cedarbrae</td>\n",
       "      <td>43.773136</td>\n",
       "      <td>-79.239476</td>\n",
       "    </tr>\n",
       "  </tbody>\n",
       "</table>\n",
       "</div>"
      ],
      "text/plain": [
       "  PostalCode      Borough                            Neighborhood   Latitude  \\\n",
       "0        M1B  Scarborough                          Malvern, Rouge  43.806686   \n",
       "1        M1C  Scarborough  Rouge Hill, Port Union, Highland Creek  43.784535   \n",
       "2        M1E  Scarborough       Guildwood, Morningside, West Hill  43.763573   \n",
       "3        M1G  Scarborough                                  Woburn  43.770992   \n",
       "4        M1H  Scarborough                               Cedarbrae  43.773136   \n",
       "\n",
       "   Longitude  \n",
       "0 -79.194353  \n",
       "1 -79.160497  \n",
       "2 -79.188711  \n",
       "3 -79.216917  \n",
       "4 -79.239476  "
      ]
     },
     "execution_count": 17,
     "metadata": {},
     "output_type": "execute_result"
    }
   ],
   "source": [
    "# merge two table on the column \"PostalCode\"\n",
    "toronto_df_new = toronto_df_grouped.merge(df_data_0, on=\"PostalCode\", how=\"left\")\n",
    "toronto_df_new.head()"
   ]
  },
  {
   "cell_type": "markdown",
   "metadata": {},
   "source": [
    "##  Check that the coordinates are added as requested"
   ]
  },
  {
   "cell_type": "code",
   "execution_count": 18,
   "metadata": {},
   "outputs": [
    {
     "data": {
      "text/html": [
       "<div>\n",
       "<style scoped>\n",
       "    .dataframe tbody tr th:only-of-type {\n",
       "        vertical-align: middle;\n",
       "    }\n",
       "\n",
       "    .dataframe tbody tr th {\n",
       "        vertical-align: top;\n",
       "    }\n",
       "\n",
       "    .dataframe thead th {\n",
       "        text-align: right;\n",
       "    }\n",
       "</style>\n",
       "<table border=\"1\" class=\"dataframe\">\n",
       "  <thead>\n",
       "    <tr style=\"text-align: right;\">\n",
       "      <th></th>\n",
       "      <th>PostalCode</th>\n",
       "      <th>Borough</th>\n",
       "      <th>Neighborhood</th>\n",
       "      <th>Latitude</th>\n",
       "      <th>Longitude</th>\n",
       "    </tr>\n",
       "  </thead>\n",
       "  <tbody>\n",
       "    <tr>\n",
       "      <th>0</th>\n",
       "      <td>M5G</td>\n",
       "      <td>Downtown Toronto</td>\n",
       "      <td>Central Bay Street</td>\n",
       "      <td>43.657952</td>\n",
       "      <td>-79.387383</td>\n",
       "    </tr>\n",
       "    <tr>\n",
       "      <th>1</th>\n",
       "      <td>M2H</td>\n",
       "      <td>North York</td>\n",
       "      <td>Hillcrest Village</td>\n",
       "      <td>43.803762</td>\n",
       "      <td>-79.363452</td>\n",
       "    </tr>\n",
       "    <tr>\n",
       "      <th>2</th>\n",
       "      <td>M4B</td>\n",
       "      <td>East York</td>\n",
       "      <td>Parkview Hill, Woodbine Gardens</td>\n",
       "      <td>43.706397</td>\n",
       "      <td>-79.309937</td>\n",
       "    </tr>\n",
       "    <tr>\n",
       "      <th>3</th>\n",
       "      <td>M1J</td>\n",
       "      <td>Scarborough</td>\n",
       "      <td>Scarborough Village</td>\n",
       "      <td>43.744734</td>\n",
       "      <td>-79.239476</td>\n",
       "    </tr>\n",
       "    <tr>\n",
       "      <th>4</th>\n",
       "      <td>M4G</td>\n",
       "      <td>East York</td>\n",
       "      <td>Leaside</td>\n",
       "      <td>43.709060</td>\n",
       "      <td>-79.363452</td>\n",
       "    </tr>\n",
       "    <tr>\n",
       "      <th>5</th>\n",
       "      <td>M4M</td>\n",
       "      <td>East Toronto</td>\n",
       "      <td>Studio District</td>\n",
       "      <td>43.659526</td>\n",
       "      <td>-79.340923</td>\n",
       "    </tr>\n",
       "    <tr>\n",
       "      <th>6</th>\n",
       "      <td>M1R</td>\n",
       "      <td>Scarborough</td>\n",
       "      <td>Wexford, Maryvale</td>\n",
       "      <td>43.750072</td>\n",
       "      <td>-79.295849</td>\n",
       "    </tr>\n",
       "    <tr>\n",
       "      <th>7</th>\n",
       "      <td>M9V</td>\n",
       "      <td>Etobicoke</td>\n",
       "      <td>South Steeles, Silverstone, Humbergate, Jamest...</td>\n",
       "      <td>43.739416</td>\n",
       "      <td>-79.588437</td>\n",
       "    </tr>\n",
       "    <tr>\n",
       "      <th>8</th>\n",
       "      <td>M9L</td>\n",
       "      <td>North York</td>\n",
       "      <td>Humber Summit</td>\n",
       "      <td>43.756303</td>\n",
       "      <td>-79.565963</td>\n",
       "    </tr>\n",
       "    <tr>\n",
       "      <th>9</th>\n",
       "      <td>M5V</td>\n",
       "      <td>Downtown Toronto</td>\n",
       "      <td>CN Tower, King and Spadina, Railway Lands, Har...</td>\n",
       "      <td>43.628947</td>\n",
       "      <td>-79.394420</td>\n",
       "    </tr>\n",
       "    <tr>\n",
       "      <th>10</th>\n",
       "      <td>M1B</td>\n",
       "      <td>Scarborough</td>\n",
       "      <td>Malvern, Rouge</td>\n",
       "      <td>43.806686</td>\n",
       "      <td>-79.194353</td>\n",
       "    </tr>\n",
       "    <tr>\n",
       "      <th>11</th>\n",
       "      <td>M5A</td>\n",
       "      <td>Downtown Toronto</td>\n",
       "      <td>Regent Park, Harbourfront</td>\n",
       "      <td>43.654260</td>\n",
       "      <td>-79.360636</td>\n",
       "    </tr>\n",
       "  </tbody>\n",
       "</table>\n",
       "</div>"
      ],
      "text/plain": [
       "   PostalCode           Borough  \\\n",
       "0         M5G  Downtown Toronto   \n",
       "1         M2H        North York   \n",
       "2         M4B         East York   \n",
       "3         M1J       Scarborough   \n",
       "4         M4G         East York   \n",
       "5         M4M      East Toronto   \n",
       "6         M1R       Scarborough   \n",
       "7         M9V         Etobicoke   \n",
       "8         M9L        North York   \n",
       "9         M5V  Downtown Toronto   \n",
       "10        M1B       Scarborough   \n",
       "11        M5A  Downtown Toronto   \n",
       "\n",
       "                                         Neighborhood   Latitude  Longitude  \n",
       "0                                  Central Bay Street  43.657952 -79.387383  \n",
       "1                                   Hillcrest Village  43.803762 -79.363452  \n",
       "2                     Parkview Hill, Woodbine Gardens  43.706397 -79.309937  \n",
       "3                                 Scarborough Village  43.744734 -79.239476  \n",
       "4                                             Leaside  43.709060 -79.363452  \n",
       "5                                     Studio District  43.659526 -79.340923  \n",
       "6                                   Wexford, Maryvale  43.750072 -79.295849  \n",
       "7   South Steeles, Silverstone, Humbergate, Jamest...  43.739416 -79.588437  \n",
       "8                                       Humber Summit  43.756303 -79.565963  \n",
       "9   CN Tower, King and Spadina, Railway Lands, Har...  43.628947 -79.394420  \n",
       "10                                     Malvern, Rouge  43.806686 -79.194353  \n",
       "11                          Regent Park, Harbourfront  43.654260 -79.360636  "
      ]
     },
     "execution_count": 18,
     "metadata": {},
     "output_type": "execute_result"
    }
   ],
   "source": [
    "# create a new test dataframe\n",
    "column_names = [\"PostalCode\", \"Borough\", \"Neighborhood\", \"Latitude\", \"Longitude\"]\n",
    "coursera_df = pd.DataFrame(columns=column_names)\n",
    "\n",
    "coursera_list = [\"M5G\", \"M2H\", \"M4B\", \"M1J\", \"M4G\", \"M4M\", \"M1R\", \"M9V\", \"M9L\", \"M5V\", \"M1B\", \"M5A\"]\n",
    "\n",
    "for postcode in coursera_list:\n",
    "    coursera_df = coursera_df.append(toronto_df_new[toronto_df_new[\"PostalCode\"]==postcode], ignore_index=True)\n",
    "    \n",
    "coursera_df"
   ]
  },
  {
   "cell_type": "markdown",
   "metadata": {},
   "source": [
    "##  Use geopy library to get the latitude and longitude values of Toronto"
   ]
  },
  {
   "cell_type": "code",
   "execution_count": 19,
   "metadata": {},
   "outputs": [
    {
     "name": "stdout",
     "output_type": "stream",
     "text": [
      "The geograpical coordinate of Toronto are 43.6534817, -79.3839347.\n"
     ]
    }
   ],
   "source": [
    "address = 'Toronto'\n",
    "\n",
    "geolocator = Nominatim(user_agent=\"my-application\")\n",
    "location = geolocator.geocode(address)\n",
    "latitude = location.latitude\n",
    "longitude = location.longitude\n",
    "print('The geograpical coordinate of Toronto are {}, {}.'.format(latitude, longitude))"
   ]
  },
  {
   "cell_type": "markdown",
   "metadata": {},
   "source": [
    "##  Create a map of Toronto with neighborhoods superimposed on top"
   ]
  },
  {
   "cell_type": "code",
   "execution_count": 20,
   "metadata": {},
   "outputs": [
    {
     "data": {
      "text/html": [
       "<div style=\"width:100%;\"><div style=\"position:relative;width:100%;height:0;padding-bottom:60%;\"><span style=\"color:#565656\">Make this Notebook Trusted to load map: File -> Trust Notebook</span><iframe src=\"about:blank\" style=\"position:absolute;width:100%;height:100%;left:0;top:0;border:none !important;\" data-html=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 onload=\"this.contentDocument.open();this.contentDocument.write(atob(this.getAttribute('data-html')));this.contentDocument.close();\" allowfullscreen webkitallowfullscreen mozallowfullscreen></iframe></div></div>"
      ],
      "text/plain": [
       "<folium.folium.Map at 0x7f6c46520208>"
      ]
     },
     "execution_count": 20,
     "metadata": {},
     "output_type": "execute_result"
    }
   ],
   "source": [
    "# create map of Toronto using latitude and longitude values\n",
    "map_toronto = folium.Map(location=[latitude, longitude], zoom_start=10)\n",
    "\n",
    "# add markers to map\n",
    "for lat, lng, borough, neighborhood in zip(toronto_df_new['Latitude'], toronto_df_new['Longitude'], toronto_df_new['Borough'], toronto_df_new['Neighborhood']):\n",
    "    label = '{}, {}'.format(neighborhood, borough)\n",
    "    label = folium.Popup(label, parse_html=True)\n",
    "    folium.CircleMarker(\n",
    "        [lat, lng],\n",
    "        radius=5,\n",
    "        popup=label,\n",
    "        color='blue',\n",
    "        fill=True,\n",
    "        fill_color='#3186cc',\n",
    "        fill_opacity=0.7).add_to(map_toronto)  \n",
    "    \n",
    "map_toronto"
   ]
  },
  {
   "cell_type": "markdown",
   "metadata": {},
   "source": [
    "## 13. Filter only boroughs that contain the word Toronto"
   ]
  },
  {
   "cell_type": "code",
   "execution_count": 21,
   "metadata": {},
   "outputs": [
    {
     "data": {
      "text/plain": [
       "['East Toronto', 'Central Toronto', 'Downtown Toronto', 'West Toronto']"
      ]
     },
     "execution_count": 21,
     "metadata": {},
     "output_type": "execute_result"
    }
   ],
   "source": [
    "borough_names = list(toronto_df_new.Borough.unique())\n",
    "\n",
    "borough_with_toronto = []\n",
    "\n",
    "for x in borough_names:\n",
    "    if \"toronto\" in x.lower():\n",
    "        borough_with_toronto.append(x)\n",
    "        \n",
    "borough_with_toronto"
   ]
  },
  {
   "cell_type": "code",
   "execution_count": 22,
   "metadata": {},
   "outputs": [
    {
     "name": "stdout",
     "output_type": "stream",
     "text": [
      "(39, 5)\n"
     ]
    },
    {
     "data": {
      "text/html": [
       "<div>\n",
       "<style scoped>\n",
       "    .dataframe tbody tr th:only-of-type {\n",
       "        vertical-align: middle;\n",
       "    }\n",
       "\n",
       "    .dataframe tbody tr th {\n",
       "        vertical-align: top;\n",
       "    }\n",
       "\n",
       "    .dataframe thead th {\n",
       "        text-align: right;\n",
       "    }\n",
       "</style>\n",
       "<table border=\"1\" class=\"dataframe\">\n",
       "  <thead>\n",
       "    <tr style=\"text-align: right;\">\n",
       "      <th></th>\n",
       "      <th>PostalCode</th>\n",
       "      <th>Borough</th>\n",
       "      <th>Neighborhood</th>\n",
       "      <th>Latitude</th>\n",
       "      <th>Longitude</th>\n",
       "    </tr>\n",
       "  </thead>\n",
       "  <tbody>\n",
       "    <tr>\n",
       "      <th>0</th>\n",
       "      <td>M4E</td>\n",
       "      <td>East Toronto</td>\n",
       "      <td>The Beaches</td>\n",
       "      <td>43.676357</td>\n",
       "      <td>-79.293031</td>\n",
       "    </tr>\n",
       "    <tr>\n",
       "      <th>1</th>\n",
       "      <td>M4K</td>\n",
       "      <td>East Toronto</td>\n",
       "      <td>The Danforth West, Riverdale</td>\n",
       "      <td>43.679557</td>\n",
       "      <td>-79.352188</td>\n",
       "    </tr>\n",
       "    <tr>\n",
       "      <th>2</th>\n",
       "      <td>M4L</td>\n",
       "      <td>East Toronto</td>\n",
       "      <td>India Bazaar, The Beaches West</td>\n",
       "      <td>43.668999</td>\n",
       "      <td>-79.315572</td>\n",
       "    </tr>\n",
       "    <tr>\n",
       "      <th>3</th>\n",
       "      <td>M4M</td>\n",
       "      <td>East Toronto</td>\n",
       "      <td>Studio District</td>\n",
       "      <td>43.659526</td>\n",
       "      <td>-79.340923</td>\n",
       "    </tr>\n",
       "    <tr>\n",
       "      <th>4</th>\n",
       "      <td>M4N</td>\n",
       "      <td>Central Toronto</td>\n",
       "      <td>Lawrence Park</td>\n",
       "      <td>43.728020</td>\n",
       "      <td>-79.388790</td>\n",
       "    </tr>\n",
       "  </tbody>\n",
       "</table>\n",
       "</div>"
      ],
      "text/plain": [
       "  PostalCode          Borough                    Neighborhood   Latitude  \\\n",
       "0        M4E     East Toronto                     The Beaches  43.676357   \n",
       "1        M4K     East Toronto    The Danforth West, Riverdale  43.679557   \n",
       "2        M4L     East Toronto  India Bazaar, The Beaches West  43.668999   \n",
       "3        M4M     East Toronto                 Studio District  43.659526   \n",
       "4        M4N  Central Toronto                   Lawrence Park  43.728020   \n",
       "\n",
       "   Longitude  \n",
       "0 -79.293031  \n",
       "1 -79.352188  \n",
       "2 -79.315572  \n",
       "3 -79.340923  \n",
       "4 -79.388790  "
      ]
     },
     "execution_count": 22,
     "metadata": {},
     "output_type": "execute_result"
    }
   ],
   "source": [
    "# create a new DataFrame with only boroughs that contain the word Toronto\n",
    "toronto_df_new = toronto_df_new[toronto_df_new['Borough'].isin(borough_with_toronto)].reset_index(drop=True)\n",
    "print(toronto_df_new.shape)\n",
    "toronto_df_new.head()"
   ]
  },
  {
   "cell_type": "code",
   "execution_count": 23,
   "metadata": {},
   "outputs": [
    {
     "data": {
      "text/html": [
       "<div style=\"width:100%;\"><div style=\"position:relative;width:100%;height:0;padding-bottom:60%;\"><span style=\"color:#565656\">Make this Notebook Trusted to load map: File -> Trust Notebook</span><iframe src=\"about:blank\" style=\"position:absolute;width:100%;height:100%;left:0;top:0;border:none !important;\" data-html=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 onload=\"this.contentDocument.open();this.contentDocument.write(atob(this.getAttribute('data-html')));this.contentDocument.close();\" allowfullscreen webkitallowfullscreen mozallowfullscreen></iframe></div></div>"
      ],
      "text/plain": [
       "<folium.folium.Map at 0x7f6c45c11b38>"
      ]
     },
     "execution_count": 23,
     "metadata": {},
     "output_type": "execute_result"
    }
   ],
   "source": [
    "# create map of Toronto using latitude and longitude values\n",
    "map_toronto = folium.Map(location=[latitude, longitude], zoom_start=10)\n",
    "\n",
    "# add markers to map\n",
    "for lat, lng, borough, neighborhood in zip(toronto_df_new['Latitude'], toronto_df_new['Longitude'], toronto_df_new['Borough'], toronto_df_new['Neighborhood']):\n",
    "    label = '{}, {}'.format(neighborhood, borough)\n",
    "    label = folium.Popup(label, parse_html=True)\n",
    "    folium.CircleMarker(\n",
    "        [lat, lng],\n",
    "        radius=5,\n",
    "        popup=label,\n",
    "        color='blue',\n",
    "        fill=True,\n",
    "        fill_color='#3186cc',\n",
    "        fill_opacity=0.7).add_to(map_toronto)  \n",
    "    \n",
    "map_toronto"
   ]
  },
  {
   "cell_type": "code",
   "execution_count": null,
   "metadata": {},
   "outputs": [],
   "source": []
  }
 ],
 "metadata": {
  "kernelspec": {
   "display_name": "Python",
   "language": "python",
   "name": "conda-env-python-py"
  },
  "language_info": {
   "codemirror_mode": {
    "name": "ipython",
    "version": 3
   },
   "file_extension": ".py",
   "mimetype": "text/x-python",
   "name": "python",
   "nbconvert_exporter": "python",
   "pygments_lexer": "ipython3",
   "version": "3.6.10"
  }
 },
 "nbformat": 4,
 "nbformat_minor": 4
}
